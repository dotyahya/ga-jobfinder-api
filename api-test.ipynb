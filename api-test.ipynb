{
 "cells": [
  {
   "cell_type": "code",
   "execution_count": 1,
   "id": "632cfa6b",
   "metadata": {},
   "outputs": [
    {
     "name": "stdout",
     "output_type": "stream",
     "text": [
      "hello world\n"
     ]
    }
   ],
   "source": [
    "print(\"hello world\")"
   ]
  },
  {
   "cell_type": "code",
   "execution_count": null,
   "id": "e6340929",
   "metadata": {},
   "outputs": [
    {
     "name": "stdout",
     "output_type": "stream",
     "text": [
      "Collecting httpx\n",
      "  Downloading httpx-0.28.1-py3-none-any.whl.metadata (7.1 kB)\n",
      "Requirement already satisfied: anyio in .\\.venv\\lib\\site-packages (from httpx) (4.9.0)\n",
      "Collecting certifi (from httpx)\n",
      "  Downloading certifi-2025.1.31-py3-none-any.whl.metadata (2.5 kB)\n",
      "Collecting httpcore==1.* (from httpx)\n",
      "  Downloading httpcore-1.0.8-py3-none-any.whl.metadata (21 kB)\n",
      "Requirement already satisfied: idna in .\\.venv\\lib\\site-packages (from httpx) (3.10)\n",
      "Requirement already satisfied: h11<0.15,>=0.13 in .\\.venv\\lib\\site-packages (from httpcore==1.*->httpx) (0.14.0)\n",
      "Requirement already satisfied: sniffio>=1.1 in .\\.venv\\lib\\site-packages (from anyio->httpx) (1.3.1)\n",
      "Requirement already satisfied: typing_extensions>=4.5 in .\\.venv\\lib\\site-packages (from anyio->httpx) (4.13.2)\n",
      "Downloading httpx-0.28.1-py3-none-any.whl (73 kB)\n",
      "Downloading httpcore-1.0.8-py3-none-any.whl (78 kB)\n",
      "Downloading certifi-2025.1.31-py3-none-any.whl (166 kB)\n",
      "Installing collected packages: certifi, httpcore, httpx\n",
      "Successfully installed certifi-2025.1.31 httpcore-1.0.8 httpx-0.28.1\n",
      "Note: you may need to restart the kernel to use updated packages.\n"
     ]
    }
   ],
   "source": [
    "# %pip install httpx"
   ]
  },
  {
   "cell_type": "code",
   "execution_count": 3,
   "id": "9ad73573",
   "metadata": {},
   "outputs": [
    {
     "name": "stdout",
     "output_type": "stream",
     "text": [
      "http://localhost:8000/health\n"
     ]
    }
   ],
   "source": [
    "import httpx\n",
    "\n",
    "path = \"/health\"\n",
    "base_url = \"http://localhost:8000\" # 127.0.0.1\n",
    "\n",
    "endpoint = base_url + path\n",
    "print(endpoint)"
   ]
  },
  {
   "cell_type": "code",
   "execution_count": 4,
   "id": "1f4a9e7b",
   "metadata": {},
   "outputs": [
    {
     "name": "stdout",
     "output_type": "stream",
     "text": [
      "200\n"
     ]
    }
   ],
   "source": [
    "response = httpx.get(endpoint)\n",
    "print(response.status_code)"
   ]
  },
  {
   "cell_type": "code",
   "execution_count": 5,
   "id": "4ae65f42",
   "metadata": {},
   "outputs": [
    {
     "name": "stdout",
     "output_type": "stream",
     "text": [
      "http://localhost:8000/jobfinder/search\n"
     ]
    }
   ],
   "source": [
    "path = \"/jobfinder/search\"\n",
    "endpoint = base_url + path\n",
    "print(endpoint)"
   ]
  },
  {
   "cell_type": "code",
   "execution_count": 11,
   "id": "c788088a",
   "metadata": {},
   "outputs": [
    {
     "name": "stdout",
     "output_type": "stream",
     "text": [
      "200\n",
      "{'message': 'Job search initiated', 'criteria': {'position': 'Full Stack Engineer', 'experience': '2 years', 'salary': '70,000 PKR to 120,000 PKR', 'jobNature': 'onsite', 'location': 'Peshawar, Pakistan', 'skills': 'full stack, MERN, Node.js, Express.js, React.js, Next.js, Firebase'}}\n"
     ]
    }
   ],
   "source": [
    "request_body = {\n",
    "    \"position\": \"Full Stack Engineer\",\n",
    "    \"experience\": \"2 years\",\n",
    "    \"salary\": \"70,000 PKR to 120,000 PKR\",\n",
    "    \"jobNature\": \"onsite\",\n",
    "    \"location\": \"Peshawar, Pakistan\",\n",
    "    \"skills\": \"full stack, MERN, Node.js, Express.js, React.js, Next.js, Firebase\"\n",
    "}\n",
    "\n",
    "response = httpx.post(endpoint, json=request_body)\n",
    "print(response.status_code)\n",
    "print(response.json())"
   ]
  },
  {
   "cell_type": "code",
   "execution_count": 15,
   "id": "16a76ef4",
   "metadata": {},
   "outputs": [
    {
     "name": "stdout",
     "output_type": "stream",
     "text": [
      "200\n",
      "{'relevant_jobs': []}\n"
     ]
    }
   ],
   "source": [
    "request_body = {\n",
    "    \"position\": \"Full Stack Engineer\",\n",
    "    \"experience\": \"2 years\",\n",
    "    \"salary\": \"70,000 PKR to 120,000 PKR\",\n",
    "    \"jobNature\": \"onsite\",\n",
    "    \"location\": \"Islamabad, Pakistan\",\n",
    "    \"skills\": \"full stack, MERN, Node.js, Express.js, React.js, Next.js, Firebase\"\n",
    "}\n",
    "\n",
    "response = httpx.post(endpoint, json=request_body)\n",
    "print(response.status_code)\n",
    "print(response.json())"
   ]
  },
  {
   "cell_type": "code",
   "execution_count": null,
   "id": "b44c3237",
   "metadata": {},
   "outputs": [],
   "source": []
  }
 ],
 "metadata": {
  "kernelspec": {
   "display_name": ".venv",
   "language": "python",
   "name": "python3"
  },
  "language_info": {
   "codemirror_mode": {
    "name": "ipython",
    "version": 3
   },
   "file_extension": ".py",
   "mimetype": "text/x-python",
   "name": "python",
   "nbconvert_exporter": "python",
   "pygments_lexer": "ipython3",
   "version": "3.12.6"
  }
 },
 "nbformat": 4,
 "nbformat_minor": 5
}
